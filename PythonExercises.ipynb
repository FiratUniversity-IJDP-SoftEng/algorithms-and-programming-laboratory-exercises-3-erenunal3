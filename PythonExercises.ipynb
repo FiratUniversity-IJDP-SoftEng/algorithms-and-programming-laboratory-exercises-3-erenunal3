
{
 "cells": [
  {
   "cell_type": "markdown",
   "metadata": {},
   "source": [
    "# Algorithms and Programming\n",
    "# Exercise Notebook (Intermediate Level)\n",
    "\n",
    "### Name:  Eren Unal\n",
    "### Student ID: 220543015\n",
    "### Date: 04/10/2025\n",
    "\n"
   ]
  },
  {
   "cell_type": "markdown",
   "metadata": {},
   "source": [
    "\n",
    "# Question 1\n",
    "### Write a Python function `is_prime` that determines if the given integer is a prime number.\n",
    "\n",
    "### Test your function\n",
    "```python\n",
    "print(is_prime(11))  # Expected output: True\n",
    "print(is_prime(15))  # Expected output: False\n",
    "```\n",
    "\n"
   ]
  },
  {
   "cell_type": "code",
   "execution_count": null,
   "metadata": {},
   "outputs": [],
   "source": [
    "\n",
    "def if_prime(x):  \n",
    "    count = 0  \n",
    "    for i in range(x):\n",
    "        if x % (i+1) ==0:\n",
    "            count += 1\n",
    "        return count\n",
    "x=int(input(\"enter a number: \"))\n",
    "if if_prime(x) == 2:\n",
    "    print(\"it is a prime number.\")\n",
    "else:\n",
    "        print(\"it is not a prime number.\")"
   ]
  },
  {
   "cell_type": "markdown",
   "metadata": {},
   "source": [
    "# Question 2\n",
    "### Write a Python function `gcd` that calculates the greatest common divisor of two integers using the Euclidean algorithm.\n",
    "\n",
    "### Test your function\n",
    "```python\n",
    "print(gcd(48, 18))  # Expected output: 6\n",
    "print(gcd(100, 25))  # Expected output: 25\n",
    "```"
   ]
  },
  {
   "cell_type": "code",
   "execution_count": null,
   "metadata": {},
   "outputs": [],
   "source": [
    "first_number=int(input(\"enter the first number: \"))\n",
    "second_number=int(input(\"enter the second number: \"))\n",
    "big_number=0\n",
    "small_number=0\n",
    "\n",
    "if first_number>second_number:\n",
    "    big_number+=first_number\n",
    "    small_number+=second_number\n",
    "else:\n",
    "    big_number+=second_number\n",
    "    small_number+=first_number\n",
    "\n",
    "\n",
    "for i in range(1,small_number+1):\n",
    "    if small_number % i == 0 and big_number % i == 0:\n",
    "        ebob = i\n",
    "    \n",
    "print(\"EBOB: \", ebob)"
   ]
  },
  {
   "cell_type": "markdown",
   "metadata": {},
   "source": [
    "# Question 3\n",
    "### Write a Python function `count_vowels` that takes a string as input and returns the count of vowels (a, e, i, o, u) in the string.\n",
    "\n",
    "### Test your function\n",
    "```python\n",
    "print(count_vowels(\"intermediate\"))  # Expected output: 5\n",
    "print(count_vowels(\"algorithm\"))  # Expected output: 3\n",
    "```"
   ]
  },
  {
   "cell_type": "code",
   "execution_count": null,
   "metadata": {},
   "outputs": [],
   "source": [
    "def count_vowel(word):\n",
    "    vowels =\"aeiou\"\n",
    "    count = 0\n",
    "    for char in word:\n",
    "        if char in vowels:\n",
    "            count += 1\n",
    "    return count\n",
    "\n",
    "uinput=input(\"enter a word: \") \n",
    "\n",
    "print(\"your have \",count_vowel(uinput), \"vowels\")"
   ]
  },
  {
   "cell_type": "markdown",
   "metadata": {},
   "source": [
    "# Question 4\n",
    "### Write a Python function `merge_sorted_lists` that merges two sorted lists into a single sorted list without using built-in sort functions.\n",
    "\n",
    "### Test your function\n",
    "```python\n",
    "print(merge_sorted_lists([1, 3, 5], [2, 4, 6]))  # Expected output: [1, 2, 3, 4, 5, 6]\n",
    "print(merge_sorted_lists([-3, 0, 7], [-1, 4, 10]))  # Expected output: [-3, -1, 0, 4, 7, 10]\n",
    "```\n"
   ]
  },
  {
   "cell_type": "code",
   "execution_count": null,
   "metadata": {},
   "outputs": [],
   "source": [
    "how_many = int(input(\"How many numbers you will write for first list: \"))\n",
    "first_list = []\n",
    "second_list= []\n",
    "for i in range(how_many):\n",
    "    number = int(input(\"Enter number: \"))\n",
    "    first_list.append(number)\n",
    "\n",
    "how_many2= int(input(\"How many numbers will you write for second list: \"))\n",
    "\n",
    "for i in range(how_many2):\n",
    "    number2 = int(input(\"Enter a number: \"))\n",
    "    second_list.append(number2) \n",
    "\n",
    "print(\"first list: \",first_list)  \n",
    "print(\"second list: \",second_list) \n",
    "print(\"combined list: \",first_list + second_list)\n"
   ]
  },
  {
   "cell_type": "markdown",
   "metadata": {},
   "source": [
    "# Question 5\n",
    "### Write a Python function `binary_search` that implements the binary search algorithm on a sorted list and returns the index of the element if found, or -1 if not found.\n",
    "\n",
    "### Test your function\n",
    "```python\n",
    "print(binary_search([1, 3, 5, 7, 9, 11], 7))  # Expected output: 3\n",
    "print(binary_search([2, 4, 6, 8, 10], 5))  # Expected output: -1\n",
    "```"
   ]
  },
  {
   "cell_type": "code",
   "execution_count": null,
   "metadata": {},
   "outputs": [],
   "source": [
    "how_many=int(input(\"how many numbers will you write: \"))\n",
    "list=[]\n",
    "\n",
    "for i in range(how_many):\n",
    "    number=int(input(\"enter a number for your list: \"))\n",
    "    list.append(number)\n",
    "\n",
    "list.sort()\n",
    "print(\"your list: \",list)\n",
    "\n",
    "def binary_search(list,target):\n",
    "    low=0\n",
    "    high=len(list)-1\n",
    "    mid=(high+low)//2\n",
    "\n",
    "    if list[mid]==target:\n",
    "        return mid\n",
    "    elif list[mid]<target:\n",
    "        low = mid+1\n",
    "    else:\n",
    "        high= mid-1\n",
    "        return -1\n",
    "    \n",
    "\n",
    "target=int(input(\"enter a number: \"))\n",
    "print(binary_search(list,target)) \n"
   ]
  },
  {
   "cell_type": "markdown",
   "metadata": {},
   "source": []
  }
 ],
 "metadata": {
  "language_info": {
   "name": "python"
  }
 },
 "nbformat": 4,
 "nbformat_minor": 2
}
